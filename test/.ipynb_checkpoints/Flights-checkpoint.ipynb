{
 "cells": [
  {
   "cell_type": "code",
   "execution_count": 1,
   "metadata": {
    "colab": {
     "base_uri": "https://localhost:8080/"
    },
    "id": "tg6r6cX8Se-K",
    "outputId": "f0a17709-582c-40d6-c681-99b328afb488"
   },
   "outputs": [],
   "source": [
    "\n",
    "from logging import root\n",
    "import itertools\n",
    "\n",
    "\n",
    "from os import truncate\n",
    "!cdn_resources='in_line'\n",
    "from pyvis import network as net\n",
    "import networkx as nx\n",
    "import pandas as pd"
   ]
  },
  {
   "cell_type": "code",
   "execution_count": 2,
   "metadata": {},
   "outputs": [
    {
     "name": "stdout",
     "output_type": "stream",
     "text": [
      "3.8.19\n",
      "3.8.19 | packaged by conda-forge | (default, Mar 20 2024, 12:50:25) \n",
      "[Clang 15.0.7 ]\n"
     ]
    }
   ],
   "source": [
    "from platform import python_version\n",
    "\n",
    "print(python_version())\n",
    "\n",
    "import sys\n",
    "print(sys.version)"
   ]
  },
  {
   "cell_type": "code",
   "execution_count": 3,
   "metadata": {
    "id": "aN9oXEEDChtT"
   },
   "outputs": [],
   "source": [
    "#Alliance\n",
    "star=[\"Aegean\",\"Air Canada\",\"Air China\",\"Air India\",\"Air New Zealand\", \"ANA\", \"ASIANA\",\"Austrian\",\"Lifemiles\",\"Brussels\",\"Copa\",\"CROATIA\",\"EGYPTAIR\",\"Ethiopian\",\"EVA\",\"LOT Polish\",\"Lufthansa\",\"SAS\",\"Shenzhen\",\"Singapore\",\"Swiss\",\"TAP\",\"Thai\",\"Turksih\",\"United\"]\n",
    "one=[\"Alaska\",\"American\",\"British\",\"CATHAY\",\"FINAIR\",\"Iberia\",\"JAL\",\"Malaysia\",\"Qantas\",\"Qatar\",\"Royal Air Morac\",\"Royal Jordanian\",\"Srilankan\",\"FIJI\",\"OMAN\"]\n",
    "sky=[\"AeroArgentina\",\"AeroMexico\",\"AirEuropa\",\"AirFrance\",\"China Airlines\",\"China Eastern\",\"CZECH\",\"DELTA\",\"Garuda\",\"ITA\",\"Kenya\",\"KLM\",\"Korean Air\",\"MEA\",\"Saudia\",\"TARDM\",\"Vietnam\",\"Virgin Atlantic\",\"XIAMENAIR\"]\n",
    "#Credit card\n",
    "AMEX=[\"AirFrance\",\"KLM\",\"Air Canada\",\"ANA\",\"Lifemiles\",\"British\",\"Virgin Atlantic\",\"Aer Lingus\",\"AeroMexico\",\"CATHAY\",\"DELTA\",\"Emirates\",\"Hawaiian\",\"Iberia\",\"JetBlue\",\"Qantas\",\"Qatar\",\"Singapore\"]\n",
    "Citi=[\"AeroMexico\",\"Lifemiles\",\"CATHAY\",\"Emirates\",\"Etihad\",\"EVA\",\"AirFrance\",\"KLM\",\"JetBlue\",\"Qantas\",\"Qatar\",\"Singapore\",\"Thai\",\"Turksih\",\"Virgin Atlantic\"]\n",
    "Chase=[\"Aer Lingus\",\"Air Canada\",\"British\",\"AirFrance\",\"KLM\",\"Iberia\",\"Singapore\",\"JetBlue\",\"Southwest\",\"United\",\"Virgin Atlantic\"]\n",
    "Bilt=[\"Alaska\",\"American\",\"AirFrance\",\"KLM\",\"Air Canada\",\"United\",\"Virgin Atlantic\",\"Turksih\",\"British\",\"CATHAY\",\"Lifemiles\",\"Iberia\",\"Aer Lingus\",\"Emirates\",\"Hawaiian\"]\n",
    "CO=[\"AirFrance\",\"KLM\",\"Virgin Atlantic\",\"AeroMexico\",\"Air Canada\",\"CATHAY\",\"Lifemiles\",\"British\",\"Emirates\",\"Etihad\",\"EVA\",\"FINAIR\",\"Qantas\",\"TAP\",\"Singapore\",\"Turksih\"]\n",
    "\n",
    "Airs={}\n",
    "for i in star:\n",
    "  Airs[i]=\"star\"\n",
    "for i in one:\n",
    "  Airs[i]=\"one\"\n",
    "for i in sky:\n",
    "  Airs[i]=\"sky\"\n",
    "\n",
    "for i in AMEX+Citi+Chase+Bilt+CO:\n",
    "  if i not in list(Airs.keys()):\n",
    "    Airs[i]=\"none\"\n",
    "AS=[\"Aer Lingus\",\"Air Tahiti Nui\", \"Condor\",\"Israel\",\"Hainan\",\"Icelandair\",\"Korean Air\",\"LATAM\",\"Ravn Alaska\",\"Singapore\",\"STARLUX\"]\n",
    "VA=[\"Air New Zealand\",\"ANA\",\"Hawaiian\",\"Indigo\",\"LATAM\",\"SAS\",\"Singapore\",\"South African\",\"Virgin Australia\"]\n",
    "VAs=[\"Qatar\",\"ANA\",\"Hawaiian\",\"Air Canada\",\"United\",\"Singapore\",\"Virgin Atlantic\",'Etihad',\"South African\",'Hainan',\"HongKong\",\"Capital\",\"Tianjin\",\"LINK\",\"PELICAN\"]\n",
    "JB=[\"Hawaiian\",\"Icelandair\",\"JSX\",\"Qatar\",\"Silver\",\"Singapore\",\"South African\"]\n",
    "JAL=[\"S7\",'Srilankan',\"AirFrance\",\"Bangkok\",'China Eastern','Emirates',\"Hawaiian\",\"Korean Air\",\"LATAM\",\"Vistara\",\"Jetstar\"]\n",
    "\n"
   ]
  },
  {
   "cell_type": "code",
   "execution_count": 4,
   "metadata": {
    "colab": {
     "base_uri": "https://localhost:8080/",
     "height": 676
    },
    "id": "MrvBEGbuu6Ma",
    "outputId": "f5f7852f-75aa-4806-95ef-0727adcacf1f"
   },
   "outputs": [
    {
     "name": "stdout",
     "output_type": "stream",
     "text": [
      "Local cdn resources have problems on chrome/safari when used in jupyter-notebook. \n"
     ]
    },
    {
     "data": {
      "text/html": [
       "\n",
       "        <iframe\n",
       "            width=\"100%\"\n",
       "            height=\"600px\"\n",
       "            src=\"example.html\"\n",
       "            frameborder=\"0\"\n",
       "            allowfullscreen\n",
       "            \n",
       "        ></iframe>\n",
       "        "
      ],
      "text/plain": [
       "<IPython.lib.display.IFrame at 0x7fd8d841da90>"
      ]
     },
     "execution_count": 4,
     "metadata": {},
     "output_type": "execute_result"
    }
   ],
   "source": [
    "!cdn_resources='in_line'\n",
    "\n",
    "g= nx.Graph()\n",
    "Colors={\"A\":\"#6676F5\",\"B\":\"#F5F46D\",\"Ch\":\"#64D5D9\",\"Ci\":\"#E498F5\",\"Co\":\"#D16F68\"}\n",
    "fig=\"diamond\"\n",
    "g.add_node('A', label='AMEX MR',color=Colors[\"A\"],size=15,shape=fig)\n",
    "g.add_node(\"B\",label=\"Bilt\",color=Colors[\"B\"],size=15,shape=fig)\n",
    "g.add_node('Ci', label='Citi',color=Colors[\"Ci\"],size=15,shape=fig)\n",
    "g.add_node('Ch', label='Chase',color=Colors[\"Ch\"],size=15,shape=fig)\n",
    "g.add_node(\"Co\",label=\"Capital One\",color=Colors[\"Co\"],size=15,shape=fig)\n",
    "\n",
    "\n",
    "g.add_nodes_from(star,group=\"star\")\n",
    "g.add_nodes_from(one,group=\"one\")\n",
    "g.add_nodes_from(sky,group=\"sky\")\n",
    "\n",
    "\n",
    "for i in range(len(star)-1):\n",
    "  for j in range(i+1,len(star)):\n",
    "    g.add_edge(star[i],star[j],color=\"lightgray\")\n",
    "for i in range(len(one)-1):\n",
    "  for j in range(i+1,len(one)):\n",
    "    g.add_edge(one[i],one[j],color=\"lightgray\")\n",
    "\n",
    "for i in range(len(sky)-1):\n",
    "  for j in range(i+1,len(sky)):\n",
    "    g.add_edge(sky[i],sky[j],color=\"lightgray\")\n",
    "\n",
    "#Indivual Airlines\n",
    "for i in range(len(AS)):\n",
    "  g.add_edge(\"Alaska\",AS[i],color=\"lightgray\")\n",
    "for i in range(len(VA)):\n",
    "  g.add_edge(\"Virgin Atlantic\",VA[i],color=\"lightgray\")\n",
    "for i in range(len(VAs)):\n",
    "  g.add_edge(\"Virgin Australia\",VAs[i],color=\"lightgray\")\n",
    "for i in range(len(JB)):\n",
    "  g.add_edge(\"JetBlue\",JB[i],color=\"lightgray\")\n",
    "for i in range(len(JAL)):\n",
    "  g.add_edge(\"JAL\",JAL[i],color=\"lightgray\")\n",
    "\n",
    "\n",
    "for i in AMEX:\n",
    "  g.add_edge(\"A\",i,color=Colors[\"A\"])\n",
    "for i in Citi:\n",
    "  g.add_edge(\"Ci\",i,color=Colors[\"Ci\"])\n",
    "for i in Bilt:\n",
    "  g.add_edge(\"B\",i,color=Colors[\"B\"])\n",
    "for i in Chase:\n",
    "  g.add_edge(\"Ch\",i,color=Colors[\"Ch\"])\n",
    "for i in CO:\n",
    "  g.add_edge(\"Co\",i,color=Colors[\"Co\"])\n",
    "\n",
    "##find \"None\"\n",
    "h=dict(g.nodes(data=\"group\"))\n",
    "k,v=list(h.keys()),list(h.values())\n",
    "\n",
    "for i in range(8,len(k)):\n",
    "  if v[i] is None:\n",
    "    g.nodes[k[i]][\"group\"]=\"alone\"\n",
    "\n",
    "pos = nx.circular_layout(g)\n",
    "h=net.Network(notebook=True)\n",
    "#h.toggle_physics(False)\n",
    "h.repulsion(node_distance=120, central_gravity=0.0, spring_length=100, spring_strength=0.01, damping=0.09)\n",
    "h.from_nx(g)\n",
    "h.show_buttons(filter_=[\"physics\"])\n",
    "h.show(\"example.html\")\n"
   ]
  },
  {
   "cell_type": "code",
   "execution_count": 7,
   "metadata": {
    "colab": {
     "base_uri": "https://localhost:8080/"
    },
    "id": "lu2WfJAWw7UW",
    "outputId": "f864a093-bf50-4848-aa4d-b37c9143ca36"
   },
   "outputs": [
    {
     "name": "stdout",
     "output_type": "stream",
     "text": [
      "None\n",
      "['A', 'ANA', 'ASIANA', 'Aegean', 'Aer Lingus', 'AeroArgentina', 'AeroMexico', 'Air Canada', 'Air China', 'Air India', 'Air New Zealand', 'Air Tahiti Nui', 'AirEuropa', 'AirFrance', 'Alaska', 'American', 'Austrian', 'B', 'Bangkok', 'British', 'Brussels', 'CATHAY', 'CROATIA', 'CZECH', 'Capital', 'Ch', 'China Airlines', 'China Eastern', 'Ci', 'Co', 'Condor', 'Copa', 'DELTA', 'EGYPTAIR', 'EVA', 'Emirates', 'Ethiopian', 'Etihad', 'FIJI', 'FINAIR', 'Garuda', 'Hainan', 'Hawaiian', 'HongKong', 'ITA', 'Iberia', 'Icelandair', 'Indigo', 'Israel', 'JAL', 'JSX', 'JetBlue', 'Jetstar', 'KLM', 'Kenya', 'Korean Air', 'LATAM', 'LINK', 'LOT Polish', 'Lifemiles', 'Lufthansa', 'MEA', 'Malaysia', 'OMAN', 'PELICAN', 'Qantas', 'Qatar', 'Ravn Alaska', 'Royal Air Morac', 'Royal Jordanian', 'S7', 'SAS', 'STARLUX', 'Saudia', 'Shenzhen', 'Silver', 'Singapore', 'South African', 'Southwest', 'Srilankan', 'Swiss', 'TAP', 'TARDM', 'Thai', 'Tianjin', 'Turksih', 'United', 'Vietnam', 'Virgin Atlantic', 'Virgin Australia', 'Vistara', 'XIAMENAIR']\n"
     ]
    }
   ],
   "source": [
    "j=dict(g.nodes())\n",
    "l=list(j.keys())\n",
    "l.sort()\n",
    "print(l.sort())\n",
    "print(l)"
   ]
  },
  {
   "cell_type": "code",
   "execution_count": 9,
   "metadata": {
    "colab": {
     "base_uri": "https://localhost:8080/",
     "height": 1000
    },
    "id": "c4-WNWImPy4Z",
    "outputId": "6382f835-67b3-4e92-ea3b-5cd6339028bb"
   },
   "outputs": [
    {
     "data": {
      "text/html": [
       "<div>\n",
       "<style scoped>\n",
       "    .dataframe tbody tr th:only-of-type {\n",
       "        vertical-align: middle;\n",
       "    }\n",
       "\n",
       "    .dataframe tbody tr th {\n",
       "        vertical-align: top;\n",
       "    }\n",
       "\n",
       "    .dataframe thead th {\n",
       "        text-align: right;\n",
       "    }\n",
       "</style>\n",
       "<table border=\"1\" class=\"dataframe\">\n",
       "  <thead>\n",
       "    <tr style=\"text-align: right;\">\n",
       "      <th></th>\n",
       "      <th>label</th>\n",
       "      <th>color</th>\n",
       "      <th>size</th>\n",
       "      <th>shape</th>\n",
       "      <th>group</th>\n",
       "    </tr>\n",
       "  </thead>\n",
       "  <tbody>\n",
       "    <tr>\n",
       "      <th>A</th>\n",
       "      <td>AMEX MR</td>\n",
       "      <td>#6676F5</td>\n",
       "      <td>15</td>\n",
       "      <td>diamond</td>\n",
       "      <td>NaN</td>\n",
       "    </tr>\n",
       "    <tr>\n",
       "      <th>B</th>\n",
       "      <td>Bilt</td>\n",
       "      <td>#F5F46D</td>\n",
       "      <td>15</td>\n",
       "      <td>diamond</td>\n",
       "      <td>NaN</td>\n",
       "    </tr>\n",
       "    <tr>\n",
       "      <th>Ci</th>\n",
       "      <td>Citi</td>\n",
       "      <td>#E498F5</td>\n",
       "      <td>15</td>\n",
       "      <td>diamond</td>\n",
       "      <td>NaN</td>\n",
       "    </tr>\n",
       "    <tr>\n",
       "      <th>Ch</th>\n",
       "      <td>Chase</td>\n",
       "      <td>#64D5D9</td>\n",
       "      <td>15</td>\n",
       "      <td>diamond</td>\n",
       "      <td>NaN</td>\n",
       "    </tr>\n",
       "    <tr>\n",
       "      <th>Co</th>\n",
       "      <td>Capital One</td>\n",
       "      <td>#D16F68</td>\n",
       "      <td>15</td>\n",
       "      <td>diamond</td>\n",
       "      <td>NaN</td>\n",
       "    </tr>\n",
       "    <tr>\n",
       "      <th>...</th>\n",
       "      <td>...</td>\n",
       "      <td>...</td>\n",
       "      <td>...</td>\n",
       "      <td>...</td>\n",
       "      <td>...</td>\n",
       "    </tr>\n",
       "    <tr>\n",
       "      <th>Bangkok</th>\n",
       "      <td>NaN</td>\n",
       "      <td>NaN</td>\n",
       "      <td>10</td>\n",
       "      <td>NaN</td>\n",
       "      <td>alone</td>\n",
       "    </tr>\n",
       "    <tr>\n",
       "      <th>Emirates</th>\n",
       "      <td>NaN</td>\n",
       "      <td>NaN</td>\n",
       "      <td>10</td>\n",
       "      <td>NaN</td>\n",
       "      <td>alone</td>\n",
       "    </tr>\n",
       "    <tr>\n",
       "      <th>Vistara</th>\n",
       "      <td>NaN</td>\n",
       "      <td>NaN</td>\n",
       "      <td>10</td>\n",
       "      <td>NaN</td>\n",
       "      <td>alone</td>\n",
       "    </tr>\n",
       "    <tr>\n",
       "      <th>Jetstar</th>\n",
       "      <td>NaN</td>\n",
       "      <td>NaN</td>\n",
       "      <td>10</td>\n",
       "      <td>NaN</td>\n",
       "      <td>alone</td>\n",
       "    </tr>\n",
       "    <tr>\n",
       "      <th>Southwest</th>\n",
       "      <td>NaN</td>\n",
       "      <td>NaN</td>\n",
       "      <td>10</td>\n",
       "      <td>NaN</td>\n",
       "      <td>alone</td>\n",
       "    </tr>\n",
       "  </tbody>\n",
       "</table>\n",
       "<p>92 rows × 5 columns</p>\n",
       "</div>"
      ],
      "text/plain": [
       "                 label    color  size    shape  group\n",
       "A              AMEX MR  #6676F5    15  diamond    NaN\n",
       "B                 Bilt  #F5F46D    15  diamond    NaN\n",
       "Ci                Citi  #E498F5    15  diamond    NaN\n",
       "Ch               Chase  #64D5D9    15  diamond    NaN\n",
       "Co         Capital One  #D16F68    15  diamond    NaN\n",
       "...                ...      ...   ...      ...    ...\n",
       "Bangkok            NaN      NaN    10      NaN  alone\n",
       "Emirates           NaN      NaN    10      NaN  alone\n",
       "Vistara            NaN      NaN    10      NaN  alone\n",
       "Jetstar            NaN      NaN    10      NaN  alone\n",
       "Southwest          NaN      NaN    10      NaN  alone\n",
       "\n",
       "[92 rows x 5 columns]"
      ]
     },
     "execution_count": 9,
     "metadata": {},
     "output_type": "execute_result"
    }
   ],
   "source": [
    "pd.DataFrame.from_dict(j,orient=\"index\")\n"
   ]
  },
  {
   "cell_type": "code",
   "execution_count": 13,
   "metadata": {},
   "outputs": [],
   "source": [
    "labels=\"1:1\"\n",
    "nx.set_edge_attributes(g, labels, \"title\")"
   ]
  },
  {
   "cell_type": "code",
   "execution_count": 14,
   "metadata": {},
   "outputs": [
    {
     "name": "stdout",
     "output_type": "stream",
     "text": [
      "               source      target title  width      color\n",
      "0                   A   AirFrance   1:1      1    #6676F5\n",
      "1                   A         KLM   1:1      1    #6676F5\n",
      "2                   A  Air Canada   1:1      1    #6676F5\n",
      "3                   A         ANA   1:1      1    #6676F5\n",
      "4                   A   Lifemiles   1:1      1    #6676F5\n",
      "..                ...         ...   ...    ...        ...\n",
      "697  Virgin Australia     Tianjin   1:1      1  lightgray\n",
      "698  Virgin Australia        LINK   1:1      1  lightgray\n",
      "699  Virgin Australia     PELICAN   1:1      1  lightgray\n",
      "700           JetBlue         JSX   1:1      1  lightgray\n",
      "701           JetBlue      Silver   1:1      1  lightgray\n",
      "\n",
      "[702 rows x 5 columns]\n"
     ]
    }
   ],
   "source": [
    "df = nx.to_pandas_edgelist(g)\n",
    "df.to_csv('out.csv')\n",
    "print(df)"
   ]
  },
  {
   "cell_type": "code",
   "execution_count": 15,
   "metadata": {},
   "outputs": [
    {
     "name": "stdout",
     "output_type": "stream",
     "text": [
      "Local cdn resources have problems on chrome/safari when used in jupyter-notebook. \n"
     ]
    },
    {
     "data": {
      "text/html": [
       "\n",
       "        <iframe\n",
       "            width=\"100%\"\n",
       "            height=\"600px\"\n",
       "            src=\"example.html\"\n",
       "            frameborder=\"0\"\n",
       "            allowfullscreen\n",
       "            \n",
       "        ></iframe>\n",
       "        "
      ],
      "text/plain": [
       "<IPython.lib.display.IFrame at 0x7fd8d687e040>"
      ]
     },
     "execution_count": 15,
     "metadata": {},
     "output_type": "execute_result"
    }
   ],
   "source": [
    "h=net.Network(notebook=True)\n",
    "#h.toggle_physics(False)\n",
    "h.repulsion(node_distance=120, central_gravity=0.0, spring_length=100, spring_strength=0.01, damping=0.09)\n",
    "h.from_nx(g)\n",
    "h.show_buttons(filter_=[\"physics\"])\n",
    "h.show(\"example.html\")\n",
    "\n"
   ]
  },
  {
   "cell_type": "code",
   "execution_count": 18,
   "metadata": {},
   "outputs": [
    {
     "name": "stdout",
     "output_type": "stream",
     "text": [
      "         color  width title              from          to\n",
      "0      #6676F5      1   1:1                 A   AirFrance\n",
      "1      #6676F5      1   1:1                 A         KLM\n",
      "2      #6676F5      1   1:1                 A  Air Canada\n",
      "3      #6676F5      1   1:1                 A         ANA\n",
      "4      #6676F5      1   1:1                 A   Lifemiles\n",
      "..         ...    ...   ...               ...         ...\n",
      "697  lightgray      1   1:1  Virgin Australia     Tianjin\n",
      "698  lightgray      1   1:1  Virgin Australia        LINK\n",
      "699  lightgray      1   1:1  Virgin Australia     PELICAN\n",
      "700  lightgray      1   1:1           JetBlue         JSX\n",
      "701  lightgray      1   1:1           JetBlue      Silver\n",
      "\n",
      "[702 rows x 5 columns]\n"
     ]
    }
   ],
   "source": [
    "df = pd.DataFrame.from_records(h.edges)\n",
    "print(df)"
   ]
  },
  {
   "cell_type": "code",
   "execution_count": 19,
   "metadata": {},
   "outputs": [],
   "source": [
    "df = pd.DataFrame.from_records(h.nodes)"
   ]
  },
  {
   "cell_type": "code",
   "execution_count": null,
   "metadata": {},
   "outputs": [],
   "source": []
  }
 ],
 "metadata": {
  "colab": {
   "provenance": []
  },
  "kernelspec": {
   "display_name": "Python 3 (ipykernel)",
   "language": "python",
   "name": "python3"
  },
  "language_info": {
   "codemirror_mode": {
    "name": "ipython",
    "version": 3
   },
   "file_extension": ".py",
   "mimetype": "text/x-python",
   "name": "python",
   "nbconvert_exporter": "python",
   "pygments_lexer": "ipython3",
   "version": "3.8.19"
  }
 },
 "nbformat": 4,
 "nbformat_minor": 4
}
